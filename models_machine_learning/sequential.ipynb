{
 "metadata": {
  "language_info": {
   "codemirror_mode": {
    "name": "ipython",
    "version": 3
   },
   "file_extension": ".py",
   "mimetype": "text/x-python",
   "name": "python",
   "nbconvert_exporter": "python",
   "pygments_lexer": "ipython3",
   "version": "3.7.6-final"
  },
  "orig_nbformat": 2,
  "kernelspec": {
   "name": "python3",
   "display_name": "Python 3.7.6 64-bit (conda)",
   "metadata": {
    "interpreter": {
     "hash": "99a237a7b17063c1b1ae23bbf27b3d3bfbaf022698a4da3d51312123ec3b869e"
    }
   }
  }
 },
 "nbformat": 4,
 "nbformat_minor": 2,
 "cells": [
  {
   "cell_type": "code",
   "execution_count": 136,
   "metadata": {},
   "outputs": [],
   "source": [
    "import pandas as pd\n",
    "import matplotlib.pyplot as plt\n"
   ]
  },
  {
   "cell_type": "code",
   "execution_count": 137,
   "metadata": {},
   "outputs": [
    {
     "output_type": "execute_result",
     "data": {
      "text/plain": [
       "  koi_disposition  koi_fpflag_nt  koi_fpflag_ss  koi_fpflag_co  koi_fpflag_ec  \\\n",
       "0       CONFIRMED              0              0              0              0   \n",
       "1  FALSE POSITIVE              0              1              0              0   \n",
       "2  FALSE POSITIVE              0              1              0              0   \n",
       "3       CONFIRMED              0              0              0              0   \n",
       "4       CONFIRMED              0              0              0              0   \n",
       "\n",
       "   koi_period  koi_period_err1  koi_period_err2  koi_time0bk  \\\n",
       "0   54.418383     2.479000e-04    -2.479000e-04   162.513840   \n",
       "1   19.899140     1.490000e-05    -1.490000e-05   175.850252   \n",
       "2    1.736952     2.630000e-07    -2.630000e-07   170.307565   \n",
       "3    2.525592     3.760000e-06    -3.760000e-06   171.595550   \n",
       "4    4.134435     1.050000e-05    -1.050000e-05   172.979370   \n",
       "\n",
       "   koi_time0bk_err1  ...  koi_steff_err2  koi_slogg  koi_slogg_err1  \\\n",
       "0          0.003520  ...             -81      4.467           0.064   \n",
       "1          0.000581  ...            -176      4.544           0.044   \n",
       "2          0.000115  ...            -174      4.564           0.053   \n",
       "3          0.001130  ...            -211      4.438           0.070   \n",
       "4          0.001900  ...            -232      4.486           0.054   \n",
       "\n",
       "   koi_slogg_err2  koi_srad  koi_srad_err1  koi_srad_err2         ra  \\\n",
       "0          -0.096     0.927          0.105         -0.061  291.93423   \n",
       "1          -0.176     0.868          0.233         -0.078  297.00482   \n",
       "2          -0.168     0.791          0.201         -0.067  285.53461   \n",
       "3          -0.210     1.046          0.334         -0.133  288.75488   \n",
       "4          -0.229     0.972          0.315         -0.105  296.28613   \n",
       "\n",
       "         dec  koi_kepmag  \n",
       "0  48.141651      15.347  \n",
       "1  48.134129      15.436  \n",
       "2  48.285210      15.597  \n",
       "3  48.226200      15.509  \n",
       "4  48.224670      15.714  \n",
       "\n",
       "[5 rows x 41 columns]"
      ],
      "text/html": "<div>\n<style scoped>\n    .dataframe tbody tr th:only-of-type {\n        vertical-align: middle;\n    }\n\n    .dataframe tbody tr th {\n        vertical-align: top;\n    }\n\n    .dataframe thead th {\n        text-align: right;\n    }\n</style>\n<table border=\"1\" class=\"dataframe\">\n  <thead>\n    <tr style=\"text-align: right;\">\n      <th></th>\n      <th>koi_disposition</th>\n      <th>koi_fpflag_nt</th>\n      <th>koi_fpflag_ss</th>\n      <th>koi_fpflag_co</th>\n      <th>koi_fpflag_ec</th>\n      <th>koi_period</th>\n      <th>koi_period_err1</th>\n      <th>koi_period_err2</th>\n      <th>koi_time0bk</th>\n      <th>koi_time0bk_err1</th>\n      <th>...</th>\n      <th>koi_steff_err2</th>\n      <th>koi_slogg</th>\n      <th>koi_slogg_err1</th>\n      <th>koi_slogg_err2</th>\n      <th>koi_srad</th>\n      <th>koi_srad_err1</th>\n      <th>koi_srad_err2</th>\n      <th>ra</th>\n      <th>dec</th>\n      <th>koi_kepmag</th>\n    </tr>\n  </thead>\n  <tbody>\n    <tr>\n      <th>0</th>\n      <td>CONFIRMED</td>\n      <td>0</td>\n      <td>0</td>\n      <td>0</td>\n      <td>0</td>\n      <td>54.418383</td>\n      <td>2.479000e-04</td>\n      <td>-2.479000e-04</td>\n      <td>162.513840</td>\n      <td>0.003520</td>\n      <td>...</td>\n      <td>-81</td>\n      <td>4.467</td>\n      <td>0.064</td>\n      <td>-0.096</td>\n      <td>0.927</td>\n      <td>0.105</td>\n      <td>-0.061</td>\n      <td>291.93423</td>\n      <td>48.141651</td>\n      <td>15.347</td>\n    </tr>\n    <tr>\n      <th>1</th>\n      <td>FALSE POSITIVE</td>\n      <td>0</td>\n      <td>1</td>\n      <td>0</td>\n      <td>0</td>\n      <td>19.899140</td>\n      <td>1.490000e-05</td>\n      <td>-1.490000e-05</td>\n      <td>175.850252</td>\n      <td>0.000581</td>\n      <td>...</td>\n      <td>-176</td>\n      <td>4.544</td>\n      <td>0.044</td>\n      <td>-0.176</td>\n      <td>0.868</td>\n      <td>0.233</td>\n      <td>-0.078</td>\n      <td>297.00482</td>\n      <td>48.134129</td>\n      <td>15.436</td>\n    </tr>\n    <tr>\n      <th>2</th>\n      <td>FALSE POSITIVE</td>\n      <td>0</td>\n      <td>1</td>\n      <td>0</td>\n      <td>0</td>\n      <td>1.736952</td>\n      <td>2.630000e-07</td>\n      <td>-2.630000e-07</td>\n      <td>170.307565</td>\n      <td>0.000115</td>\n      <td>...</td>\n      <td>-174</td>\n      <td>4.564</td>\n      <td>0.053</td>\n      <td>-0.168</td>\n      <td>0.791</td>\n      <td>0.201</td>\n      <td>-0.067</td>\n      <td>285.53461</td>\n      <td>48.285210</td>\n      <td>15.597</td>\n    </tr>\n    <tr>\n      <th>3</th>\n      <td>CONFIRMED</td>\n      <td>0</td>\n      <td>0</td>\n      <td>0</td>\n      <td>0</td>\n      <td>2.525592</td>\n      <td>3.760000e-06</td>\n      <td>-3.760000e-06</td>\n      <td>171.595550</td>\n      <td>0.001130</td>\n      <td>...</td>\n      <td>-211</td>\n      <td>4.438</td>\n      <td>0.070</td>\n      <td>-0.210</td>\n      <td>1.046</td>\n      <td>0.334</td>\n      <td>-0.133</td>\n      <td>288.75488</td>\n      <td>48.226200</td>\n      <td>15.509</td>\n    </tr>\n    <tr>\n      <th>4</th>\n      <td>CONFIRMED</td>\n      <td>0</td>\n      <td>0</td>\n      <td>0</td>\n      <td>0</td>\n      <td>4.134435</td>\n      <td>1.050000e-05</td>\n      <td>-1.050000e-05</td>\n      <td>172.979370</td>\n      <td>0.001900</td>\n      <td>...</td>\n      <td>-232</td>\n      <td>4.486</td>\n      <td>0.054</td>\n      <td>-0.229</td>\n      <td>0.972</td>\n      <td>0.315</td>\n      <td>-0.105</td>\n      <td>296.28613</td>\n      <td>48.224670</td>\n      <td>15.714</td>\n    </tr>\n  </tbody>\n</table>\n<p>5 rows × 41 columns</p>\n</div>"
     },
     "metadata": {},
     "execution_count": 137
    }
   ],
   "source": [
    "df = pd.read_csv(\"exoplanet_data.csv\")\n",
    "# Drop the null columns where all values are null\n",
    "df = df.dropna(axis='columns', how='all')\n",
    "# Drop the null rows\n",
    "df = df.dropna()\n",
    "df.head()"
   ]
  },
  {
   "cell_type": "code",
   "execution_count": 138,
   "metadata": {},
   "outputs": [],
   "source": [
    "selected_features=list(df.columns)[21:]\n"
   ]
  },
  {
   "cell_type": "code",
   "execution_count": 139,
   "metadata": {},
   "outputs": [
    {
     "output_type": "execute_result",
     "data": {
      "text/plain": [
       "   koi_prad_err1  koi_prad_err2  koi_teq  koi_insol  koi_insol_err1  \\\n",
       "0           0.32          -0.19      443       9.11            2.87   \n",
       "1           3.92          -1.31      638      39.30           31.04   \n",
       "2           8.50          -2.83     1395     891.96          668.95   \n",
       "3           0.88          -0.35     1406     926.16          874.33   \n",
       "4           0.90          -0.30     1160     427.65          420.33   \n",
       "\n",
       "   koi_insol_err2  koi_model_snr  koi_tce_plnt_num  koi_steff  koi_steff_err1  \\\n",
       "0           -1.62           25.8                 2       5455              81   \n",
       "1          -10.49           76.3                 1       5853             158   \n",
       "2         -230.35          505.6                 1       5805             157   \n",
       "3         -314.24           40.9                 1       6031             169   \n",
       "4         -136.70           40.2                 2       6046             189   \n",
       "\n",
       "   koi_steff_err2  koi_slogg  koi_slogg_err1  koi_slogg_err2  koi_srad  \\\n",
       "0             -81      4.467           0.064          -0.096     0.927   \n",
       "1            -176      4.544           0.044          -0.176     0.868   \n",
       "2            -174      4.564           0.053          -0.168     0.791   \n",
       "3            -211      4.438           0.070          -0.210     1.046   \n",
       "4            -232      4.486           0.054          -0.229     0.972   \n",
       "\n",
       "   koi_srad_err1  koi_srad_err2         ra        dec  koi_kepmag  \n",
       "0          0.105         -0.061  291.93423  48.141651      15.347  \n",
       "1          0.233         -0.078  297.00482  48.134129      15.436  \n",
       "2          0.201         -0.067  285.53461  48.285210      15.597  \n",
       "3          0.334         -0.133  288.75488  48.226200      15.509  \n",
       "4          0.315         -0.105  296.28613  48.224670      15.714  "
      ],
      "text/html": "<div>\n<style scoped>\n    .dataframe tbody tr th:only-of-type {\n        vertical-align: middle;\n    }\n\n    .dataframe tbody tr th {\n        vertical-align: top;\n    }\n\n    .dataframe thead th {\n        text-align: right;\n    }\n</style>\n<table border=\"1\" class=\"dataframe\">\n  <thead>\n    <tr style=\"text-align: right;\">\n      <th></th>\n      <th>koi_prad_err1</th>\n      <th>koi_prad_err2</th>\n      <th>koi_teq</th>\n      <th>koi_insol</th>\n      <th>koi_insol_err1</th>\n      <th>koi_insol_err2</th>\n      <th>koi_model_snr</th>\n      <th>koi_tce_plnt_num</th>\n      <th>koi_steff</th>\n      <th>koi_steff_err1</th>\n      <th>koi_steff_err2</th>\n      <th>koi_slogg</th>\n      <th>koi_slogg_err1</th>\n      <th>koi_slogg_err2</th>\n      <th>koi_srad</th>\n      <th>koi_srad_err1</th>\n      <th>koi_srad_err2</th>\n      <th>ra</th>\n      <th>dec</th>\n      <th>koi_kepmag</th>\n    </tr>\n  </thead>\n  <tbody>\n    <tr>\n      <th>0</th>\n      <td>0.32</td>\n      <td>-0.19</td>\n      <td>443</td>\n      <td>9.11</td>\n      <td>2.87</td>\n      <td>-1.62</td>\n      <td>25.8</td>\n      <td>2</td>\n      <td>5455</td>\n      <td>81</td>\n      <td>-81</td>\n      <td>4.467</td>\n      <td>0.064</td>\n      <td>-0.096</td>\n      <td>0.927</td>\n      <td>0.105</td>\n      <td>-0.061</td>\n      <td>291.93423</td>\n      <td>48.141651</td>\n      <td>15.347</td>\n    </tr>\n    <tr>\n      <th>1</th>\n      <td>3.92</td>\n      <td>-1.31</td>\n      <td>638</td>\n      <td>39.30</td>\n      <td>31.04</td>\n      <td>-10.49</td>\n      <td>76.3</td>\n      <td>1</td>\n      <td>5853</td>\n      <td>158</td>\n      <td>-176</td>\n      <td>4.544</td>\n      <td>0.044</td>\n      <td>-0.176</td>\n      <td>0.868</td>\n      <td>0.233</td>\n      <td>-0.078</td>\n      <td>297.00482</td>\n      <td>48.134129</td>\n      <td>15.436</td>\n    </tr>\n    <tr>\n      <th>2</th>\n      <td>8.50</td>\n      <td>-2.83</td>\n      <td>1395</td>\n      <td>891.96</td>\n      <td>668.95</td>\n      <td>-230.35</td>\n      <td>505.6</td>\n      <td>1</td>\n      <td>5805</td>\n      <td>157</td>\n      <td>-174</td>\n      <td>4.564</td>\n      <td>0.053</td>\n      <td>-0.168</td>\n      <td>0.791</td>\n      <td>0.201</td>\n      <td>-0.067</td>\n      <td>285.53461</td>\n      <td>48.285210</td>\n      <td>15.597</td>\n    </tr>\n    <tr>\n      <th>3</th>\n      <td>0.88</td>\n      <td>-0.35</td>\n      <td>1406</td>\n      <td>926.16</td>\n      <td>874.33</td>\n      <td>-314.24</td>\n      <td>40.9</td>\n      <td>1</td>\n      <td>6031</td>\n      <td>169</td>\n      <td>-211</td>\n      <td>4.438</td>\n      <td>0.070</td>\n      <td>-0.210</td>\n      <td>1.046</td>\n      <td>0.334</td>\n      <td>-0.133</td>\n      <td>288.75488</td>\n      <td>48.226200</td>\n      <td>15.509</td>\n    </tr>\n    <tr>\n      <th>4</th>\n      <td>0.90</td>\n      <td>-0.30</td>\n      <td>1160</td>\n      <td>427.65</td>\n      <td>420.33</td>\n      <td>-136.70</td>\n      <td>40.2</td>\n      <td>2</td>\n      <td>6046</td>\n      <td>189</td>\n      <td>-232</td>\n      <td>4.486</td>\n      <td>0.054</td>\n      <td>-0.229</td>\n      <td>0.972</td>\n      <td>0.315</td>\n      <td>-0.105</td>\n      <td>296.28613</td>\n      <td>48.224670</td>\n      <td>15.714</td>\n    </tr>\n  </tbody>\n</table>\n</div>"
     },
     "metadata": {},
     "execution_count": 139
    }
   ],
   "source": [
    "X = df[selected_features]\n",
    "X.head()"
   ]
  },
  {
   "cell_type": "code",
   "execution_count": 140,
   "metadata": {},
   "outputs": [
    {
     "output_type": "stream",
     "name": "stdout",
     "text": [
      "(6991, 20) (6991,)\n"
     ]
    }
   ],
   "source": [
    "y=df.koi_disposition\n",
    "y.head()\n",
    "print(X.shape,y.shape)\n"
   ]
  },
  {
   "cell_type": "code",
   "execution_count": 141,
   "metadata": {},
   "outputs": [
    {
     "output_type": "stream",
     "name": "stdout",
     "text": [
      "1748\n"
     ]
    }
   ],
   "source": [
    "from sklearn.model_selection import train_test_split\n",
    "\n",
    "X_train, X_test, y_train, y_test = train_test_split(X, y, random_state=1)\n",
    "print(len(X_test))"
   ]
  },
  {
   "cell_type": "code",
   "execution_count": 142,
   "metadata": {},
   "outputs": [
    {
     "output_type": "execute_result",
     "data": {
      "text/plain": [
       "20"
      ]
     },
     "metadata": {},
     "execution_count": 142
    }
   ],
   "source": [
    "# Scale your data\n",
    "from sklearn.preprocessing import LabelEncoder, MinMaxScaler\n",
    "\n",
    "# Create a minmax model and fit it to the training data\n",
    "X_scaler = MinMaxScaler().fit(X_train)\n",
    "\n",
    "X_train_scaled = X_scaler.transform(X_train)\n",
    "X_test_scaled = X_scaler.transform(X_test)\n",
    "X_test_scaled.shape[1]"
   ]
  },
  {
   "cell_type": "code",
   "execution_count": 143,
   "metadata": {},
   "outputs": [
    {
     "output_type": "execute_result",
     "data": {
      "text/plain": [
       "['CANDIDATE', 'CONFIRMED', 'FALSE POSITIVE']"
      ]
     },
     "metadata": {},
     "execution_count": 143
    }
   ],
   "source": [
    "\n",
    "# Step 1: Label-encode data set\n",
    "label_encoder = LabelEncoder()\n",
    "label_encoder.fit(y_train)\n",
    "label_encoder.classes_\n",
    "target_name=[\"CANDIDATE\",\"CONFIRMED\",\"FALSE POSITIVE\"]\n",
    "target_name"
   ]
  },
  {
   "cell_type": "code",
   "execution_count": 144,
   "metadata": {},
   "outputs": [
    {
     "output_type": "execute_result",
     "data": {
      "text/plain": [
       "array([1, 2, 2, ..., 2, 2, 0])"
      ]
     },
     "metadata": {},
     "execution_count": 144
    }
   ],
   "source": [
    "encoded_y_train = label_encoder.transform(y_train)\n",
    "encoded_y_test = label_encoder.transform(y_test)\n",
    "encoded_y_test"
   ]
  },
  {
   "cell_type": "code",
   "execution_count": 145,
   "metadata": {},
   "outputs": [
    {
     "output_type": "execute_result",
     "data": {
      "text/plain": [
       "  koi_disposition  koi_fpflag_nt  koi_fpflag_ss  koi_fpflag_co  koi_fpflag_ec  \\\n",
       "0       CONFIRMED              0              0              0              0   \n",
       "1  FALSE POSITIVE              0              1              0              0   \n",
       "2  FALSE POSITIVE              0              1              0              0   \n",
       "3       CONFIRMED              0              0              0              0   \n",
       "4       CONFIRMED              0              0              0              0   \n",
       "\n",
       "   koi_period  koi_period_err1  koi_period_err2  koi_time0bk  \\\n",
       "0   54.418383     2.479000e-04    -2.479000e-04   162.513840   \n",
       "1   19.899140     1.490000e-05    -1.490000e-05   175.850252   \n",
       "2    1.736952     2.630000e-07    -2.630000e-07   170.307565   \n",
       "3    2.525592     3.760000e-06    -3.760000e-06   171.595550   \n",
       "4    4.134435     1.050000e-05    -1.050000e-05   172.979370   \n",
       "\n",
       "   koi_time0bk_err1  ...  koi_slogg  koi_slogg_err1  koi_slogg_err2  koi_srad  \\\n",
       "0          0.003520  ...      4.467           0.064          -0.096     0.927   \n",
       "1          0.000581  ...      4.544           0.044          -0.176     0.868   \n",
       "2          0.000115  ...      4.564           0.053          -0.168     0.791   \n",
       "3          0.001130  ...      4.438           0.070          -0.210     1.046   \n",
       "4          0.001900  ...      4.486           0.054          -0.229     0.972   \n",
       "\n",
       "   koi_srad_err1  koi_srad_err2         ra        dec  koi_kepmag  encoded_y  \n",
       "0          0.105         -0.061  291.93423  48.141651      15.347          1  \n",
       "1          0.233         -0.078  297.00482  48.134129      15.436          2  \n",
       "2          0.201         -0.067  285.53461  48.285210      15.597          2  \n",
       "3          0.334         -0.133  288.75488  48.226200      15.509          1  \n",
       "4          0.315         -0.105  296.28613  48.224670      15.714          1  \n",
       "\n",
       "[5 rows x 42 columns]"
      ],
      "text/html": "<div>\n<style scoped>\n    .dataframe tbody tr th:only-of-type {\n        vertical-align: middle;\n    }\n\n    .dataframe tbody tr th {\n        vertical-align: top;\n    }\n\n    .dataframe thead th {\n        text-align: right;\n    }\n</style>\n<table border=\"1\" class=\"dataframe\">\n  <thead>\n    <tr style=\"text-align: right;\">\n      <th></th>\n      <th>koi_disposition</th>\n      <th>koi_fpflag_nt</th>\n      <th>koi_fpflag_ss</th>\n      <th>koi_fpflag_co</th>\n      <th>koi_fpflag_ec</th>\n      <th>koi_period</th>\n      <th>koi_period_err1</th>\n      <th>koi_period_err2</th>\n      <th>koi_time0bk</th>\n      <th>koi_time0bk_err1</th>\n      <th>...</th>\n      <th>koi_slogg</th>\n      <th>koi_slogg_err1</th>\n      <th>koi_slogg_err2</th>\n      <th>koi_srad</th>\n      <th>koi_srad_err1</th>\n      <th>koi_srad_err2</th>\n      <th>ra</th>\n      <th>dec</th>\n      <th>koi_kepmag</th>\n      <th>encoded_y</th>\n    </tr>\n  </thead>\n  <tbody>\n    <tr>\n      <th>0</th>\n      <td>CONFIRMED</td>\n      <td>0</td>\n      <td>0</td>\n      <td>0</td>\n      <td>0</td>\n      <td>54.418383</td>\n      <td>2.479000e-04</td>\n      <td>-2.479000e-04</td>\n      <td>162.513840</td>\n      <td>0.003520</td>\n      <td>...</td>\n      <td>4.467</td>\n      <td>0.064</td>\n      <td>-0.096</td>\n      <td>0.927</td>\n      <td>0.105</td>\n      <td>-0.061</td>\n      <td>291.93423</td>\n      <td>48.141651</td>\n      <td>15.347</td>\n      <td>1</td>\n    </tr>\n    <tr>\n      <th>1</th>\n      <td>FALSE POSITIVE</td>\n      <td>0</td>\n      <td>1</td>\n      <td>0</td>\n      <td>0</td>\n      <td>19.899140</td>\n      <td>1.490000e-05</td>\n      <td>-1.490000e-05</td>\n      <td>175.850252</td>\n      <td>0.000581</td>\n      <td>...</td>\n      <td>4.544</td>\n      <td>0.044</td>\n      <td>-0.176</td>\n      <td>0.868</td>\n      <td>0.233</td>\n      <td>-0.078</td>\n      <td>297.00482</td>\n      <td>48.134129</td>\n      <td>15.436</td>\n      <td>2</td>\n    </tr>\n    <tr>\n      <th>2</th>\n      <td>FALSE POSITIVE</td>\n      <td>0</td>\n      <td>1</td>\n      <td>0</td>\n      <td>0</td>\n      <td>1.736952</td>\n      <td>2.630000e-07</td>\n      <td>-2.630000e-07</td>\n      <td>170.307565</td>\n      <td>0.000115</td>\n      <td>...</td>\n      <td>4.564</td>\n      <td>0.053</td>\n      <td>-0.168</td>\n      <td>0.791</td>\n      <td>0.201</td>\n      <td>-0.067</td>\n      <td>285.53461</td>\n      <td>48.285210</td>\n      <td>15.597</td>\n      <td>2</td>\n    </tr>\n    <tr>\n      <th>3</th>\n      <td>CONFIRMED</td>\n      <td>0</td>\n      <td>0</td>\n      <td>0</td>\n      <td>0</td>\n      <td>2.525592</td>\n      <td>3.760000e-06</td>\n      <td>-3.760000e-06</td>\n      <td>171.595550</td>\n      <td>0.001130</td>\n      <td>...</td>\n      <td>4.438</td>\n      <td>0.070</td>\n      <td>-0.210</td>\n      <td>1.046</td>\n      <td>0.334</td>\n      <td>-0.133</td>\n      <td>288.75488</td>\n      <td>48.226200</td>\n      <td>15.509</td>\n      <td>1</td>\n    </tr>\n    <tr>\n      <th>4</th>\n      <td>CONFIRMED</td>\n      <td>0</td>\n      <td>0</td>\n      <td>0</td>\n      <td>0</td>\n      <td>4.134435</td>\n      <td>1.050000e-05</td>\n      <td>-1.050000e-05</td>\n      <td>172.979370</td>\n      <td>0.001900</td>\n      <td>...</td>\n      <td>4.486</td>\n      <td>0.054</td>\n      <td>-0.229</td>\n      <td>0.972</td>\n      <td>0.315</td>\n      <td>-0.105</td>\n      <td>296.28613</td>\n      <td>48.224670</td>\n      <td>15.714</td>\n      <td>1</td>\n    </tr>\n  </tbody>\n</table>\n<p>5 rows × 42 columns</p>\n</div>"
     },
     "metadata": {},
     "execution_count": 145
    }
   ],
   "source": [
    "df[\"encoded_y\"] = label_encoder.fit_transform(df['koi_disposition'])\n",
    "df.head()"
   ]
  },
  {
   "cell_type": "code",
   "execution_count": 146,
   "metadata": {},
   "outputs": [
    {
     "output_type": "execute_result",
     "data": {
      "text/plain": [
       "3"
      ]
     },
     "metadata": {},
     "execution_count": 146
    }
   ],
   "source": [
    "from tensorflow.keras.utils import to_categorical\n",
    "y_train_categorical = to_categorical(encoded_y_train)\n",
    "y_test_categorical = to_categorical(encoded_y_test)\n",
    "y_test_categorical.shape[1]"
   ]
  },
  {
   "cell_type": "code",
   "execution_count": 147,
   "metadata": {},
   "outputs": [],
   "source": [
    "from tensorflow.keras.models import Sequential\n",
    "from tensorflow.keras.layers import Dense"
   ]
  },
  {
   "cell_type": "code",
   "execution_count": 148,
   "metadata": {},
   "outputs": [
    {
     "output_type": "execute_result",
     "data": {
      "text/plain": [
       "<tensorflow.python.keras.engine.sequential.Sequential at 0x17c858e2e48>"
      ]
     },
     "metadata": {},
     "execution_count": 148
    }
   ],
   "source": [
    "# Create model and add layers\n",
    "model = Sequential()\n",
    "model.add(Dense(units=100, activation='relu', input_dim=X_train_scaled.shape[1]))\n",
    "model.add(Dense(units=100, activation='relu'))\n",
    "model.add(Dense(y_train_categorical.shape[1], activation='softmax'))\n",
    "model"
   ]
  },
  {
   "cell_type": "code",
   "execution_count": 149,
   "metadata": {},
   "outputs": [
    {
     "output_type": "execute_result",
     "data": {
      "text/plain": [
       "<tensorflow.python.keras.engine.sequential.Sequential at 0x17c858e2e48>"
      ]
     },
     "metadata": {},
     "execution_count": 149
    }
   ],
   "source": [
    "# Compile and fit the model\n",
    "model.compile(optimizer='adam',\n",
    "              loss='categorical_crossentropy',\n",
    "              metrics=['accuracy'])\n",
    "model"
   ]
  },
  {
   "cell_type": "code",
   "execution_count": 150,
   "metadata": {},
   "outputs": [
    {
     "output_type": "stream",
     "name": "stdout",
     "text": [
      "Model: \"sequential_7\"\n_________________________________________________________________\nLayer (type)                 Output Shape              Param #   \n=================================================================\ndense_20 (Dense)             (None, 100)               2100      \n_________________________________________________________________\ndense_21 (Dense)             (None, 100)               10100     \n_________________________________________________________________\ndense_22 (Dense)             (None, 3)                 303       \n=================================================================\nTotal params: 12,503\nTrainable params: 12,503\nNon-trainable params: 0\n_________________________________________________________________\n"
     ]
    }
   ],
   "source": [
    "model.summary()"
   ]
  },
  {
   "cell_type": "code",
   "execution_count": 153,
   "metadata": {},
   "outputs": [
    {
     "output_type": "stream",
     "name": "stdout",
     "text": [
      "Epoch 1/60\n",
      "164/164 - 0s - loss: 0.7056 - accuracy: 0.6754\n",
      "Epoch 2/60\n",
      "164/164 - 0s - loss: 0.7056 - accuracy: 0.6773\n",
      "Epoch 3/60\n",
      "164/164 - 0s - loss: 0.7025 - accuracy: 0.6786\n",
      "Epoch 4/60\n",
      "164/164 - 0s - loss: 0.7039 - accuracy: 0.6790\n",
      "Epoch 5/60\n",
      "164/164 - 0s - loss: 0.6989 - accuracy: 0.6876\n",
      "Epoch 6/60\n",
      "164/164 - 0s - loss: 0.7019 - accuracy: 0.6821\n",
      "Epoch 7/60\n",
      "164/164 - 0s - loss: 0.7001 - accuracy: 0.6855\n",
      "Epoch 8/60\n",
      "164/164 - 0s - loss: 0.6931 - accuracy: 0.6840\n",
      "Epoch 9/60\n",
      "164/164 - 0s - loss: 0.6951 - accuracy: 0.6845\n",
      "Epoch 10/60\n",
      "164/164 - 0s - loss: 0.6965 - accuracy: 0.6838\n",
      "Epoch 11/60\n",
      "164/164 - 0s - loss: 0.6978 - accuracy: 0.6882\n",
      "Epoch 12/60\n",
      "164/164 - 0s - loss: 0.6933 - accuracy: 0.6861\n",
      "Epoch 13/60\n",
      "164/164 - 0s - loss: 0.6935 - accuracy: 0.6826\n",
      "Epoch 14/60\n",
      "164/164 - 0s - loss: 0.6941 - accuracy: 0.6866\n",
      "Epoch 15/60\n",
      "164/164 - 0s - loss: 0.6902 - accuracy: 0.6842\n",
      "Epoch 16/60\n",
      "164/164 - 0s - loss: 0.6823 - accuracy: 0.6946\n",
      "Epoch 17/60\n",
      "164/164 - 0s - loss: 0.6874 - accuracy: 0.6845\n",
      "Epoch 18/60\n",
      "164/164 - 0s - loss: 0.6869 - accuracy: 0.6910\n",
      "Epoch 19/60\n",
      "164/164 - 0s - loss: 0.6832 - accuracy: 0.6918\n",
      "Epoch 20/60\n",
      "164/164 - 0s - loss: 0.6839 - accuracy: 0.6883\n",
      "Epoch 21/60\n",
      "164/164 - 0s - loss: 0.6889 - accuracy: 0.6870\n",
      "Epoch 22/60\n",
      "164/164 - 0s - loss: 0.6849 - accuracy: 0.6887\n",
      "Epoch 23/60\n",
      "164/164 - 0s - loss: 0.6753 - accuracy: 0.6929\n",
      "Epoch 24/60\n",
      "164/164 - 0s - loss: 0.6760 - accuracy: 0.6981\n",
      "Epoch 25/60\n",
      "164/164 - 0s - loss: 0.6743 - accuracy: 0.6944\n",
      "Epoch 26/60\n",
      "164/164 - 0s - loss: 0.6741 - accuracy: 0.6958\n",
      "Epoch 27/60\n",
      "164/164 - 0s - loss: 0.6718 - accuracy: 0.6962\n",
      "Epoch 28/60\n",
      "164/164 - 0s - loss: 0.6671 - accuracy: 0.6962\n",
      "Epoch 29/60\n",
      "164/164 - 0s - loss: 0.6687 - accuracy: 0.6964\n",
      "Epoch 30/60\n",
      "164/164 - 0s - loss: 0.6702 - accuracy: 0.7011\n",
      "Epoch 31/60\n",
      "164/164 - 0s - loss: 0.6653 - accuracy: 0.7023\n",
      "Epoch 32/60\n",
      "164/164 - 0s - loss: 0.6677 - accuracy: 0.6998\n",
      "Epoch 33/60\n",
      "164/164 - 0s - loss: 0.6653 - accuracy: 0.6986\n",
      "Epoch 34/60\n",
      "164/164 - 0s - loss: 0.6631 - accuracy: 0.7053\n",
      "Epoch 35/60\n",
      "164/164 - 0s - loss: 0.6638 - accuracy: 0.7011\n",
      "Epoch 36/60\n",
      "164/164 - 0s - loss: 0.6583 - accuracy: 0.7051\n",
      "Epoch 37/60\n",
      "164/164 - 0s - loss: 0.6555 - accuracy: 0.7051\n",
      "Epoch 38/60\n",
      "164/164 - 0s - loss: 0.6575 - accuracy: 0.7034\n",
      "Epoch 39/60\n",
      "164/164 - 0s - loss: 0.6643 - accuracy: 0.6979\n",
      "Epoch 40/60\n",
      "164/164 - 0s - loss: 0.6557 - accuracy: 0.7067\n",
      "Epoch 41/60\n",
      "164/164 - 0s - loss: 0.6520 - accuracy: 0.7089\n",
      "Epoch 42/60\n",
      "164/164 - 0s - loss: 0.6539 - accuracy: 0.7023\n",
      "Epoch 43/60\n",
      "164/164 - 0s - loss: 0.6529 - accuracy: 0.7133\n",
      "Epoch 44/60\n",
      "164/164 - 0s - loss: 0.6557 - accuracy: 0.7055\n",
      "Epoch 45/60\n",
      "164/164 - 0s - loss: 0.6456 - accuracy: 0.7084\n",
      "Epoch 46/60\n",
      "164/164 - 0s - loss: 0.6497 - accuracy: 0.7034\n",
      "Epoch 47/60\n",
      "164/164 - 0s - loss: 0.6438 - accuracy: 0.7103\n",
      "Epoch 48/60\n",
      "164/164 - 0s - loss: 0.6437 - accuracy: 0.7097\n",
      "Epoch 49/60\n",
      "164/164 - 0s - loss: 0.6448 - accuracy: 0.7082\n",
      "Epoch 50/60\n",
      "164/164 - 0s - loss: 0.6444 - accuracy: 0.7093\n",
      "Epoch 51/60\n",
      "164/164 - 0s - loss: 0.6411 - accuracy: 0.7068\n",
      "Epoch 52/60\n",
      "164/164 - 0s - loss: 0.6389 - accuracy: 0.7131\n",
      "Epoch 53/60\n",
      "164/164 - 0s - loss: 0.6437 - accuracy: 0.7044\n",
      "Epoch 54/60\n",
      "164/164 - 0s - loss: 0.6341 - accuracy: 0.7185\n",
      "Epoch 55/60\n",
      "164/164 - 0s - loss: 0.6338 - accuracy: 0.7204\n",
      "Epoch 56/60\n",
      "164/164 - 0s - loss: 0.6382 - accuracy: 0.7185\n",
      "Epoch 57/60\n",
      "164/164 - 0s - loss: 0.6352 - accuracy: 0.7162\n",
      "Epoch 58/60\n",
      "164/164 - 0s - loss: 0.6279 - accuracy: 0.7221\n",
      "Epoch 59/60\n",
      "164/164 - 0s - loss: 0.6331 - accuracy: 0.7189\n",
      "Epoch 60/60\n",
      "164/164 - 0s - loss: 0.6259 - accuracy: 0.7187\n"
     ]
    },
    {
     "output_type": "execute_result",
     "data": {
      "text/plain": [
       "<tensorflow.python.keras.callbacks.History at 0x17c85b35748>"
      ]
     },
     "metadata": {},
     "execution_count": 153
    }
   ],
   "source": [
    "model.fit(X_train_scaled,\n",
    "    y_train_categorical,\n",
    "    epochs=60,\n",
    "    shuffle=True,verbose=2)"
   ]
  },
  {
   "cell_type": "code",
   "execution_count": 152,
   "metadata": {},
   "outputs": [
    {
     "output_type": "stream",
     "name": "stdout",
     "text": [
      "55/55 - 0s - loss: 0.7401 - accuracy: 0.6613\n",
      "Loss: 0.7400993704795837, Accuracy: 0.6613272428512573\n"
     ]
    }
   ],
   "source": [
    "# Evaluate the model using the training data\n",
    "model_loss, model_accuracy = model.evaluate(X_test_scaled, y_test_categorical, verbose=2)\n",
    "print(f\"Loss: {model_loss}, Accuracy: {model_accuracy}\")"
   ]
  },
  {
   "cell_type": "code",
   "execution_count": null,
   "metadata": {},
   "outputs": [],
   "source": []
  }
 ]
}